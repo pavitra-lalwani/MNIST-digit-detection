{
 "cells": [
  {
   "cell_type": "code",
   "execution_count": 29,
   "metadata": {},
   "outputs": [],
   "source": [
    "import numpy as np\n",
    "import pandas as pd\n",
    "import matplotlib.pyplot as plt\n",
    "import seaborn as sns\n",
    "%matplotlib inline\n",
    "from tensorflow.keras.utils import to_categorical\n",
    "from tensorflow.keras.layers import Dense,Dropout,Flatten,Conv2D,MaxPooling2D\n",
    "from tensorflow.keras.models import Sequential\n",
    "from keras.datasets import mnist\n",
    "from keras.models import load_model"
   ]
  },
  {
   "cell_type": "code",
   "execution_count": 13,
   "metadata": {},
   "outputs": [],
   "source": [
    "(X_train,y_train),(X_test,y_test) = mnist.load_data()"
   ]
  },
  {
   "cell_type": "code",
   "execution_count": 14,
   "metadata": {},
   "outputs": [
    {
     "data": {
      "text/plain": [
       "(60000, 28, 28)"
      ]
     },
     "execution_count": 14,
     "metadata": {},
     "output_type": "execute_result"
    }
   ],
   "source": [
    "X_train.shape"
   ]
  },
  {
   "cell_type": "code",
   "execution_count": 15,
   "metadata": {},
   "outputs": [
    {
     "data": {
      "text/plain": [
       "(10000, 28, 28)"
      ]
     },
     "execution_count": 15,
     "metadata": {},
     "output_type": "execute_result"
    }
   ],
   "source": [
    "X_test.shape"
   ]
  },
  {
   "cell_type": "code",
   "execution_count": 16,
   "metadata": {},
   "outputs": [],
   "source": [
    "X_train = X_train.reshape(X_train.shape[0],28,28,1)"
   ]
  },
  {
   "cell_type": "code",
   "execution_count": 17,
   "metadata": {},
   "outputs": [],
   "source": [
    "X_test = X_test.reshape(X_test.shape[0],28,28,1)"
   ]
  },
  {
   "cell_type": "code",
   "execution_count": 19,
   "metadata": {},
   "outputs": [],
   "source": [
    "y_train,y_test = to_categorical(y_train),to_categorical(y_test)"
   ]
  },
  {
   "cell_type": "code",
   "execution_count": 20,
   "metadata": {},
   "outputs": [],
   "source": [
    "X_train = X_train.astype(\"float32\")/255\n",
    "X_test = X_test.astype(\"float32\")/255"
   ]
  },
  {
   "cell_type": "code",
   "execution_count": 21,
   "metadata": {},
   "outputs": [],
   "source": [
    "cnn = Sequential()\n",
    "cnn.add(Conv2D(filters = 32, kernel_size=3,activation='relu',input_shape=[28,28,1]))\n",
    "cnn.add(Conv2D(filters = 64, kernel_size=3, activation='relu'))\n",
    "cnn.add(MaxPooling2D(pool_size=2,strides = 2))\n",
    "cnn.add(Dropout(0.25))\n",
    "cnn.add(Flatten())\n",
    "cnn.add(Dense(units = 256, activation='relu'))\n",
    "cnn.add(Dropout(0.5))\n",
    "cnn.add(Dense(units = 10, activation='softmax'))"
   ]
  },
  {
   "cell_type": "code",
   "execution_count": 23,
   "metadata": {},
   "outputs": [],
   "source": [
    "cnn.compile(optimizer = \"adam\",loss = \"categorical_crossentropy\",metrics = [\"accuracy\"])"
   ]
  },
  {
   "cell_type": "code",
   "execution_count": 25,
   "metadata": {},
   "outputs": [
    {
     "name": "stdout",
     "output_type": "stream",
     "text": [
      "Epoch 1/10\n",
      "469/469 [==============================] - 131s 280ms/step - loss: 0.0429 - accuracy: 0.9874 - val_loss: 0.0284 - val_accuracy: 0.9908\n",
      "Epoch 2/10\n",
      "469/469 [==============================] - 137s 291ms/step - loss: 0.0358 - accuracy: 0.9887 - val_loss: 0.0294 - val_accuracy: 0.9906\n",
      "Epoch 3/10\n",
      "469/469 [==============================] - 138s 295ms/step - loss: 0.0301 - accuracy: 0.9901 - val_loss: 0.0275 - val_accuracy: 0.9907\n",
      "Epoch 4/10\n",
      "469/469 [==============================] - 138s 295ms/step - loss: 0.0245 - accuracy: 0.9916 - val_loss: 0.0294 - val_accuracy: 0.9908\n",
      "Epoch 5/10\n",
      "469/469 [==============================] - 138s 294ms/step - loss: 0.0233 - accuracy: 0.9926 - val_loss: 0.0260 - val_accuracy: 0.9916\n",
      "Epoch 6/10\n",
      "469/469 [==============================] - 138s 293ms/step - loss: 0.0186 - accuracy: 0.9939 - val_loss: 0.0249 - val_accuracy: 0.9928\n",
      "Epoch 7/10\n",
      "469/469 [==============================] - 136s 291ms/step - loss: 0.0182 - accuracy: 0.9937 - val_loss: 0.0256 - val_accuracy: 0.9925\n",
      "Epoch 8/10\n",
      "469/469 [==============================] - 136s 290ms/step - loss: 0.0177 - accuracy: 0.9941 - val_loss: 0.0247 - val_accuracy: 0.9933\n",
      "Epoch 9/10\n",
      "469/469 [==============================] - 135s 289ms/step - loss: 0.0148 - accuracy: 0.9951 - val_loss: 0.0275 - val_accuracy: 0.9926\n",
      "Epoch 10/10\n",
      "469/469 [==============================] - 136s 290ms/step - loss: 0.0129 - accuracy: 0.9959 - val_loss: 0.0294 - val_accuracy: 0.9922\n"
     ]
    },
    {
     "data": {
      "text/plain": [
       "<keras.callbacks.History at 0x1b933724850>"
      ]
     },
     "execution_count": 25,
     "metadata": {},
     "output_type": "execute_result"
    }
   ],
   "source": [
    "cnn.fit(X_train,y_train,batch_size = 128,validation_data = (X_test,y_test), epochs = 10)"
   ]
  },
  {
   "cell_type": "code",
   "execution_count": 26,
   "metadata": {},
   "outputs": [
    {
     "name": "stdout",
     "output_type": "stream",
     "text": [
      "INFO:tensorflow:Assets written to: mnist\\assets\n"
     ]
    }
   ],
   "source": [
    "cnn.save(\"mnist\")"
   ]
  },
  {
   "cell_type": "code",
   "execution_count": 28,
   "metadata": {},
   "outputs": [
    {
     "name": "stdout",
     "output_type": "stream",
     "text": [
      "313/313 [==============================] - 8s 24ms/step - loss: 0.0294 - accuracy: 0.9922\n"
     ]
    },
    {
     "data": {
      "text/plain": [
       "[0.029390932992100716, 0.9922000169754028]"
      ]
     },
     "execution_count": 28,
     "metadata": {},
     "output_type": "execute_result"
    }
   ],
   "source": [
    "cnn.evaluate(X_test,y_test)\n",
    "# Hence, the accuracy of the model is 99.22%, and loss function is 2%"
   ]
  }
 ],
 "metadata": {
  "interpreter": {
   "hash": "17c8c24d2b74717280e1efdd6311a6d332fef7664e539db450f6d266b5be0e54"
  },
  "kernelspec": {
   "display_name": "Python 3.9.6 64-bit",
   "language": "python",
   "name": "python3"
  },
  "language_info": {
   "codemirror_mode": {
    "name": "ipython",
    "version": 3
   },
   "file_extension": ".py",
   "mimetype": "text/x-python",
   "name": "python",
   "nbconvert_exporter": "python",
   "pygments_lexer": "ipython3",
   "version": "3.9.6"
  },
  "orig_nbformat": 4
 },
 "nbformat": 4,
 "nbformat_minor": 2
}
